{
 "cells": [
  {
   "cell_type": "code",
   "execution_count": 83,
   "metadata": {},
   "outputs": [],
   "source": [
    "import pandas as pd\n",
    "import numpy as np"
   ]
  },
  {
   "cell_type": "code",
   "execution_count": 84,
   "metadata": {},
   "outputs": [
    {
     "name": "stderr",
     "output_type": "stream",
     "text": [
      "C:\\Users\\Eduardo\\AppData\\Local\\Temp\\ipykernel_12732\\2317934883.py:1: DtypeWarning: Columns (26) have mixed types. Specify dtype option on import or set low_memory=False.\n",
      "  raw_data = pd.read_csv('Flight_Data.csv', parse_dates=['fl_date'])\n"
     ]
    }
   ],
   "source": [
    "raw_data = pd.read_csv('Flight_Data.csv', parse_dates=['fl_date'])"
   ]
  },
  {
   "cell_type": "code",
   "execution_count": 85,
   "metadata": {},
   "outputs": [],
   "source": [
    "raw_data = raw_data.sample(frac=0.25)"
   ]
  },
  {
   "cell_type": "code",
   "execution_count": 86,
   "metadata": {},
   "outputs": [],
   "source": [
    "model_features = ['fl_date', 'mkt_carrier', 'arr_delay','dep_delay', 'tail_num', 'mkt_carrier_fl_num', 'origin',\n",
    "       'dest', 'crs_dep_time', 'crs_arr_time',\n",
    "       'crs_elapsed_time', 'distance']\n",
    "\n",
    "model_df_raw = raw_data[model_features]"
   ]
  },
  {
   "cell_type": "code",
   "execution_count": 87,
   "metadata": {},
   "outputs": [
    {
     "name": "stderr",
     "output_type": "stream",
     "text": [
      "C:\\Users\\Eduardo\\AppData\\Local\\Temp\\ipykernel_12732\\2353730469.py:1: SettingWithCopyWarning: \n",
      "A value is trying to be set on a copy of a slice from a DataFrame.\n",
      "Try using .loc[row_indexer,col_indexer] = value instead\n",
      "\n",
      "See the caveats in the documentation: https://pandas.pydata.org/pandas-docs/stable/user_guide/indexing.html#returning-a-view-versus-a-copy\n",
      "  model_df_raw['arr_delay'] = model_df_raw['arr_delay'].clip(lower=0)\n"
     ]
    }
   ],
   "source": [
    "model_df_raw['arr_delay'] = model_df_raw['arr_delay'].clip(lower=0)"
   ]
  },
  {
   "cell_type": "code",
   "execution_count": 88,
   "metadata": {},
   "outputs": [],
   "source": [
    "# model_df['dep_delay'] = model_df['dep_delay'].clip(lower=0)"
   ]
  },
  {
   "cell_type": "code",
   "execution_count": 89,
   "metadata": {},
   "outputs": [],
   "source": [
    "# model_df_raw['total_delay'] = model_df_raw['dep_delay'] +model_df_raw['arr_delay']"
   ]
  },
  {
   "cell_type": "code",
   "execution_count": 90,
   "metadata": {},
   "outputs": [],
   "source": [
    "columns_model = ['fl_date', 'mkt_carrier', 'arr_delay','dep_delay', 'tail_num', 'mkt_carrier_fl_num', 'origin',\n",
    "       'dest', 'crs_dep_time', 'crs_arr_time',\n",
    "       'crs_elapsed_time', 'distance']"
   ]
  },
  {
   "cell_type": "code",
   "execution_count": 91,
   "metadata": {},
   "outputs": [],
   "source": [
    "model_df = model_df_raw[columns_model]"
   ]
  },
  {
   "cell_type": "code",
   "execution_count": 92,
   "metadata": {},
   "outputs": [],
   "source": [
    "greater_than_zero_count = model_df[model_df['arr_delay' ] > 0]\n",
    "\n",
    "#create a new object to represent DF with values greater than 0 (index with a boolean equation)"
   ]
  },
  {
   "cell_type": "code",
   "execution_count": 93,
   "metadata": {},
   "outputs": [],
   "source": [
    "df_carriers_grouped = greater_than_zero_count.groupby('mkt_carrier').agg(count_carrier_delay = ('arr_delay', 'count')).reset_index()"
   ]
  },
  {
   "cell_type": "code",
   "execution_count": 94,
   "metadata": {},
   "outputs": [],
   "source": [
    "carrier_grouped_mean = model_df.groupby('mkt_carrier').agg(avg_carrier_delay = ('arr_delay', 'mean'))\n"
   ]
  },
  {
   "cell_type": "code",
   "execution_count": 95,
   "metadata": {},
   "outputs": [],
   "source": [
    "df_carriers_grouped = df_carriers_grouped.merge(carrier_grouped_mean,\n",
    "                                    left_on='mkt_carrier', \n",
    "                                    right_on = 'mkt_carrier',\n",
    "                                    how='inner')\n",
    "\n",
    "#merging mean,sum, and count into a single DF"
   ]
  },
  {
   "cell_type": "code",
   "execution_count": 96,
   "metadata": {},
   "outputs": [],
   "source": [
    "model_df = model_df.merge(df_carriers_grouped,\n",
    "                                    left_on='mkt_carrier', \n",
    "                                    right_on = 'mkt_carrier',\n",
    "                                    how='inner')"
   ]
  },
  {
   "cell_type": "code",
   "execution_count": 97,
   "metadata": {},
   "outputs": [],
   "source": [
    "df_origin_grouped = greater_than_zero_count.groupby('origin').agg(count_origin_delay = ('arr_delay', 'count')).reset_index()"
   ]
  },
  {
   "cell_type": "code",
   "execution_count": 98,
   "metadata": {},
   "outputs": [],
   "source": [
    "origin_grouped_mean = model_df.groupby('origin').agg(avg_origin_delay = ('arr_delay', 'mean')).reset_index()"
   ]
  },
  {
   "cell_type": "code",
   "execution_count": 99,
   "metadata": {},
   "outputs": [],
   "source": [
    "df_origin_grouped = df_origin_grouped.merge(origin_grouped_mean,\n",
    "                                    left_on='origin', \n",
    "                                    right_on = 'origin',\n",
    "                                    how='inner')\n",
    "\n",
    "#merging mean,sum, and count into a single DF"
   ]
  },
  {
   "cell_type": "code",
   "execution_count": 100,
   "metadata": {},
   "outputs": [],
   "source": [
    "model_df = model_df.merge(df_origin_grouped,\n",
    "                                    left_on='origin', \n",
    "                                    right_on = 'origin',\n",
    "                                    how='inner')"
   ]
  },
  {
   "cell_type": "code",
   "execution_count": 101,
   "metadata": {},
   "outputs": [],
   "source": [
    "df_dest_grouped = greater_than_zero_count.groupby('dest').agg(count_dest_delay = ('arr_delay', 'count')).reset_index()"
   ]
  },
  {
   "cell_type": "code",
   "execution_count": 102,
   "metadata": {},
   "outputs": [],
   "source": [
    "dest_grouped_mean = model_df.groupby('dest').agg(avg_dest_delay = ('arr_delay', 'mean')).reset_index()"
   ]
  },
  {
   "cell_type": "code",
   "execution_count": 103,
   "metadata": {},
   "outputs": [],
   "source": [
    "df_dest_grouped = df_dest_grouped.merge(dest_grouped_mean,\n",
    "                                    left_on='dest', \n",
    "                                    right_on = 'dest',\n",
    "                                    how='inner')\n",
    "\n",
    "#merging mean,sum, and count into a single DF"
   ]
  },
  {
   "cell_type": "code",
   "execution_count": 104,
   "metadata": {},
   "outputs": [],
   "source": [
    "model_df = model_df.merge(df_dest_grouped,\n",
    "                                    left_on='dest', \n",
    "                                    right_on = 'dest',\n",
    "                                    how='inner')"
   ]
  },
  {
   "cell_type": "code",
   "execution_count": 105,
   "metadata": {},
   "outputs": [],
   "source": [
    "df_route_group = greater_than_zero_count.groupby('mkt_carrier_fl_num').agg(count_route_delay = ('arr_delay', 'count')).reset_index()"
   ]
  },
  {
   "cell_type": "code",
   "execution_count": 106,
   "metadata": {},
   "outputs": [],
   "source": [
    "route_group_mean = model_df.groupby('mkt_carrier_fl_num').agg(avg_route_delay = ('arr_delay', 'mean')).reset_index()"
   ]
  },
  {
   "cell_type": "code",
   "execution_count": 107,
   "metadata": {},
   "outputs": [],
   "source": [
    "df_route_group = df_route_group.merge(route_group_mean,\n",
    "                                    left_on='mkt_carrier_fl_num', \n",
    "                                    right_on = 'mkt_carrier_fl_num',\n",
    "                                    how='inner')\n",
    "\n",
    "#merging mean,sum, and count into a single DF"
   ]
  },
  {
   "cell_type": "code",
   "execution_count": 108,
   "metadata": {},
   "outputs": [],
   "source": [
    "model_df = model_df.merge(df_route_group,\n",
    "                                    left_on='mkt_carrier_fl_num', \n",
    "                                    right_on = 'mkt_carrier_fl_num',\n",
    "                                    how='inner')"
   ]
  },
  {
   "cell_type": "code",
   "execution_count": 109,
   "metadata": {},
   "outputs": [],
   "source": [
    "df_tailnum_grouped = greater_than_zero_count.groupby('tail_num').agg(count_tailnum_delay = ('arr_delay', 'count')).reset_index()"
   ]
  },
  {
   "cell_type": "code",
   "execution_count": 110,
   "metadata": {},
   "outputs": [],
   "source": [
    "tailnum_grouped_mean = model_df.groupby('tail_num').agg(avg_tailnum_delay = ('arr_delay', 'mean')).reset_index()"
   ]
  },
  {
   "cell_type": "code",
   "execution_count": 111,
   "metadata": {},
   "outputs": [],
   "source": [
    "df_tailnum_grouped = df_tailnum_grouped.merge(tailnum_grouped_mean,\n",
    "                                    left_on='tail_num', \n",
    "                                    right_on = 'tail_num',\n",
    "                                    how='inner')\n",
    "\n",
    "#merging mean,sum, and count into a single DF"
   ]
  },
  {
   "cell_type": "code",
   "execution_count": 112,
   "metadata": {},
   "outputs": [],
   "source": [
    "model_df = model_df.merge(df_tailnum_grouped,\n",
    "                                    left_on='tail_num', \n",
    "                                    right_on = 'tail_num',\n",
    "                                    how='inner')"
   ]
  },
  {
   "cell_type": "code",
   "execution_count": 113,
   "metadata": {},
   "outputs": [],
   "source": [
    "df_distance_grouped = greater_than_zero_count.groupby('distance').agg(count_delay_distance = ('arr_delay', 'count')).reset_index()"
   ]
  },
  {
   "cell_type": "code",
   "execution_count": 114,
   "metadata": {},
   "outputs": [],
   "source": [
    "distance_grouped_mean = model_df.groupby('distance').agg(avg_delay_distance = ('arr_delay', 'mean')).reset_index()"
   ]
  },
  {
   "cell_type": "code",
   "execution_count": 115,
   "metadata": {},
   "outputs": [],
   "source": [
    "df_distance_grouped = df_distance_grouped.merge(distance_grouped_mean,\n",
    "                                    left_on='distance', \n",
    "                                    right_on = 'distance',\n",
    "                                    how='inner')\n",
    "\n",
    "#merging mean,sum, and count into a single DF"
   ]
  },
  {
   "cell_type": "code",
   "execution_count": 116,
   "metadata": {},
   "outputs": [],
   "source": [
    "model_df = model_df.merge(df_distance_grouped,\n",
    "                                    left_on='distance', \n",
    "                                    right_on = 'distance',\n",
    "                                    how='inner')"
   ]
  },
  {
   "cell_type": "code",
   "execution_count": 117,
   "metadata": {},
   "outputs": [
    {
     "data": {
      "text/html": [
       "<div>\n",
       "<style scoped>\n",
       "    .dataframe tbody tr th:only-of-type {\n",
       "        vertical-align: middle;\n",
       "    }\n",
       "\n",
       "    .dataframe tbody tr th {\n",
       "        vertical-align: top;\n",
       "    }\n",
       "\n",
       "    .dataframe thead th {\n",
       "        text-align: right;\n",
       "    }\n",
       "</style>\n",
       "<table border=\"1\" class=\"dataframe\">\n",
       "  <thead>\n",
       "    <tr style=\"text-align: right;\">\n",
       "      <th></th>\n",
       "      <th>fl_date</th>\n",
       "      <th>mkt_carrier</th>\n",
       "      <th>arr_delay</th>\n",
       "      <th>dep_delay</th>\n",
       "      <th>tail_num</th>\n",
       "      <th>mkt_carrier_fl_num</th>\n",
       "      <th>origin</th>\n",
       "      <th>dest</th>\n",
       "      <th>crs_dep_time</th>\n",
       "      <th>crs_arr_time</th>\n",
       "      <th>...</th>\n",
       "      <th>count_origin_delay</th>\n",
       "      <th>avg_origin_delay</th>\n",
       "      <th>count_dest_delay</th>\n",
       "      <th>avg_dest_delay</th>\n",
       "      <th>count_route_delay</th>\n",
       "      <th>avg_route_delay</th>\n",
       "      <th>count_tailnum_delay</th>\n",
       "      <th>avg_tailnum_delay</th>\n",
       "      <th>count_delay_distance</th>\n",
       "      <th>avg_delay_distance</th>\n",
       "    </tr>\n",
       "  </thead>\n",
       "  <tbody>\n",
       "    <tr>\n",
       "      <th>0</th>\n",
       "      <td>2018-08-12</td>\n",
       "      <td>DL</td>\n",
       "      <td>15.0</td>\n",
       "      <td>12.0</td>\n",
       "      <td>N301DQ</td>\n",
       "      <td>1051</td>\n",
       "      <td>ATL</td>\n",
       "      <td>BHM</td>\n",
       "      <td>1416</td>\n",
       "      <td>1404</td>\n",
       "      <td>...</td>\n",
       "      <td>3092</td>\n",
       "      <td>11.100816</td>\n",
       "      <td>185</td>\n",
       "      <td>12.162745</td>\n",
       "      <td>17</td>\n",
       "      <td>13.052632</td>\n",
       "      <td>12</td>\n",
       "      <td>25.217391</td>\n",
       "      <td>86</td>\n",
       "      <td>8.71875</td>\n",
       "    </tr>\n",
       "    <tr>\n",
       "      <th>1</th>\n",
       "      <td>2018-07-12</td>\n",
       "      <td>DL</td>\n",
       "      <td>16.0</td>\n",
       "      <td>-1.0</td>\n",
       "      <td>N306DQ</td>\n",
       "      <td>1051</td>\n",
       "      <td>ATL</td>\n",
       "      <td>BHM</td>\n",
       "      <td>1416</td>\n",
       "      <td>1404</td>\n",
       "      <td>...</td>\n",
       "      <td>3092</td>\n",
       "      <td>11.100816</td>\n",
       "      <td>185</td>\n",
       "      <td>12.162745</td>\n",
       "      <td>17</td>\n",
       "      <td>13.052632</td>\n",
       "      <td>9</td>\n",
       "      <td>8.000000</td>\n",
       "      <td>86</td>\n",
       "      <td>8.71875</td>\n",
       "    </tr>\n",
       "    <tr>\n",
       "      <th>2</th>\n",
       "      <td>2018-03-10</td>\n",
       "      <td>DL</td>\n",
       "      <td>0.0</td>\n",
       "      <td>13.0</td>\n",
       "      <td>N306DQ</td>\n",
       "      <td>1626</td>\n",
       "      <td>BHM</td>\n",
       "      <td>ATL</td>\n",
       "      <td>1700</td>\n",
       "      <td>1909</td>\n",
       "      <td>...</td>\n",
       "      <td>174</td>\n",
       "      <td>15.696429</td>\n",
       "      <td>2811</td>\n",
       "      <td>11.799395</td>\n",
       "      <td>17</td>\n",
       "      <td>13.700000</td>\n",
       "      <td>9</td>\n",
       "      <td>8.000000</td>\n",
       "      <td>86</td>\n",
       "      <td>8.71875</td>\n",
       "    </tr>\n",
       "    <tr>\n",
       "      <th>3</th>\n",
       "      <td>2019-07-09</td>\n",
       "      <td>DL</td>\n",
       "      <td>0.0</td>\n",
       "      <td>-1.0</td>\n",
       "      <td>N916DL</td>\n",
       "      <td>1051</td>\n",
       "      <td>ATL</td>\n",
       "      <td>BHM</td>\n",
       "      <td>1405</td>\n",
       "      <td>1357</td>\n",
       "      <td>...</td>\n",
       "      <td>3092</td>\n",
       "      <td>11.100816</td>\n",
       "      <td>185</td>\n",
       "      <td>12.162745</td>\n",
       "      <td>17</td>\n",
       "      <td>13.052632</td>\n",
       "      <td>11</td>\n",
       "      <td>32.333333</td>\n",
       "      <td>86</td>\n",
       "      <td>8.71875</td>\n",
       "    </tr>\n",
       "    <tr>\n",
       "      <th>4</th>\n",
       "      <td>2019-11-26</td>\n",
       "      <td>DL</td>\n",
       "      <td>0.0</td>\n",
       "      <td>-3.0</td>\n",
       "      <td>N916DL</td>\n",
       "      <td>2438</td>\n",
       "      <td>ATL</td>\n",
       "      <td>BHM</td>\n",
       "      <td>1900</td>\n",
       "      <td>1854</td>\n",
       "      <td>...</td>\n",
       "      <td>3092</td>\n",
       "      <td>11.100816</td>\n",
       "      <td>185</td>\n",
       "      <td>12.162745</td>\n",
       "      <td>9</td>\n",
       "      <td>8.866667</td>\n",
       "      <td>11</td>\n",
       "      <td>32.333333</td>\n",
       "      <td>86</td>\n",
       "      <td>8.71875</td>\n",
       "    </tr>\n",
       "  </tbody>\n",
       "</table>\n",
       "<p>5 rows × 24 columns</p>\n",
       "</div>"
      ],
      "text/plain": [
       "     fl_date mkt_carrier  arr_delay  dep_delay tail_num  mkt_carrier_fl_num  \\\n",
       "0 2018-08-12          DL       15.0       12.0   N301DQ                1051   \n",
       "1 2018-07-12          DL       16.0       -1.0   N306DQ                1051   \n",
       "2 2018-03-10          DL        0.0       13.0   N306DQ                1626   \n",
       "3 2019-07-09          DL        0.0       -1.0   N916DL                1051   \n",
       "4 2019-11-26          DL        0.0       -3.0   N916DL                2438   \n",
       "\n",
       "  origin dest  crs_dep_time  crs_arr_time  ...  count_origin_delay  \\\n",
       "0    ATL  BHM          1416          1404  ...                3092   \n",
       "1    ATL  BHM          1416          1404  ...                3092   \n",
       "2    BHM  ATL          1700          1909  ...                 174   \n",
       "3    ATL  BHM          1405          1357  ...                3092   \n",
       "4    ATL  BHM          1900          1854  ...                3092   \n",
       "\n",
       "   avg_origin_delay  count_dest_delay  avg_dest_delay  count_route_delay  \\\n",
       "0         11.100816               185       12.162745                 17   \n",
       "1         11.100816               185       12.162745                 17   \n",
       "2         15.696429              2811       11.799395                 17   \n",
       "3         11.100816               185       12.162745                 17   \n",
       "4         11.100816               185       12.162745                  9   \n",
       "\n",
       "   avg_route_delay  count_tailnum_delay  avg_tailnum_delay  \\\n",
       "0        13.052632                   12          25.217391   \n",
       "1        13.052632                    9           8.000000   \n",
       "2        13.700000                    9           8.000000   \n",
       "3        13.052632                   11          32.333333   \n",
       "4         8.866667                   11          32.333333   \n",
       "\n",
       "   count_delay_distance  avg_delay_distance  \n",
       "0                    86             8.71875  \n",
       "1                    86             8.71875  \n",
       "2                    86             8.71875  \n",
       "3                    86             8.71875  \n",
       "4                    86             8.71875  \n",
       "\n",
       "[5 rows x 24 columns]"
      ]
     },
     "execution_count": 117,
     "metadata": {},
     "output_type": "execute_result"
    }
   ],
   "source": [
    "model_df.head(5)"
   ]
  },
  {
   "cell_type": "code",
   "execution_count": 118,
   "metadata": {},
   "outputs": [
    {
     "data": {
      "text/plain": [
       "fl_date                    0\n",
       "mkt_carrier                0\n",
       "arr_delay               3196\n",
       "dep_delay               2662\n",
       "tail_num                   0\n",
       "mkt_carrier_fl_num         0\n",
       "origin                     0\n",
       "dest                       0\n",
       "crs_dep_time               0\n",
       "crs_arr_time               0\n",
       "crs_elapsed_time           0\n",
       "distance                   0\n",
       "count_carrier_delay        0\n",
       "avg_carrier_delay          0\n",
       "count_origin_delay         0\n",
       "avg_origin_delay           0\n",
       "count_dest_delay           0\n",
       "avg_dest_delay             0\n",
       "count_route_delay          0\n",
       "avg_route_delay            0\n",
       "count_tailnum_delay        0\n",
       "avg_tailnum_delay          0\n",
       "count_delay_distance       0\n",
       "avg_delay_distance         0\n",
       "dtype: int64"
      ]
     },
     "execution_count": 118,
     "metadata": {},
     "output_type": "execute_result"
    }
   ],
   "source": [
    "model_df.isnull().sum()"
   ]
  },
  {
   "cell_type": "code",
   "execution_count": 119,
   "metadata": {},
   "outputs": [],
   "source": [
    "model_df.fillna(0, inplace=True)"
   ]
  },
  {
   "cell_type": "code",
   "execution_count": 120,
   "metadata": {},
   "outputs": [
    {
     "data": {
      "text/plain": [
       "(195552, 24)"
      ]
     },
     "execution_count": 120,
     "metadata": {},
     "output_type": "execute_result"
    }
   ],
   "source": [
    "model_df.shape"
   ]
  },
  {
   "cell_type": "code",
   "execution_count": 121,
   "metadata": {},
   "outputs": [],
   "source": [
    "# save Dataframe used in model\n",
    "\n",
    "model_df.to_csv('final model.csv')"
   ]
  },
  {
   "cell_type": "code",
   "execution_count": null,
   "metadata": {},
   "outputs": [],
   "source": []
  },
  {
   "cell_type": "code",
   "execution_count": null,
   "metadata": {},
   "outputs": [],
   "source": []
  },
  {
   "cell_type": "code",
   "execution_count": null,
   "metadata": {},
   "outputs": [],
   "source": []
  },
  {
   "cell_type": "code",
   "execution_count": 122,
   "metadata": {},
   "outputs": [],
   "source": [
    "X = model_df\n",
    "y = model_df['arr_delay']"
   ]
  },
  {
   "cell_type": "code",
   "execution_count": 123,
   "metadata": {},
   "outputs": [],
   "source": [
    "X = X.drop(['fl_date','arr_delay','dep_delay','mkt_carrier','origin','dest','tail_num','mkt_carrier_fl_num'], axis=1)"
   ]
  },
  {
   "cell_type": "code",
   "execution_count": 124,
   "metadata": {},
   "outputs": [
    {
     "data": {
      "text/plain": [
       "(195552, 16)"
      ]
     },
     "execution_count": 124,
     "metadata": {},
     "output_type": "execute_result"
    }
   ],
   "source": [
    "X.shape"
   ]
  },
  {
   "cell_type": "code",
   "execution_count": 125,
   "metadata": {},
   "outputs": [
    {
     "data": {
      "text/plain": [
       "(195552,)"
      ]
     },
     "execution_count": 125,
     "metadata": {},
     "output_type": "execute_result"
    }
   ],
   "source": [
    "y.shape"
   ]
  },
  {
   "cell_type": "code",
   "execution_count": 126,
   "metadata": {},
   "outputs": [],
   "source": [
    "from sklearn.preprocessing import MinMaxScaler\n",
    "from sklearn.preprocessing import StandardScaler"
   ]
  },
  {
   "cell_type": "code",
   "execution_count": 127,
   "metadata": {},
   "outputs": [
    {
     "data": {
      "text/plain": [
       "array([[0.60008482, 0.58482701, 0.04744526, ..., 0.10034822, 0.16283525,\n",
       "        0.05414316],\n",
       "       [0.60008482, 0.58482701, 0.04744526, ..., 0.03174392, 0.16283525,\n",
       "        0.05414316],\n",
       "       [0.72052587, 0.79533139, 0.06021898, ..., 0.03174392, 0.16283525,\n",
       "        0.05414316],\n",
       "       ...,\n",
       "       [0.85411366, 0.21842434, 0.243309  , ..., 0.01182096, 0.01149425,\n",
       "        0.1997502 ],\n",
       "       [0.63994911, 0.76781992, 0.25729927, ..., 0.01182096, 0.01149425,\n",
       "        0.1997502 ],\n",
       "       [0.6547922 , 0.80616924, 0.30413625, ..., 0.05533271, 0.        ,\n",
       "        0.20902846]])"
      ]
     },
     "execution_count": 127,
     "metadata": {},
     "output_type": "execute_result"
    }
   ],
   "source": [
    "scaler = MinMaxScaler()\n",
    "scaler.fit_transform(X)"
   ]
  },
  {
   "cell_type": "code",
   "execution_count": 128,
   "metadata": {},
   "outputs": [
    {
     "data": {
      "text/plain": [
       "((195552, 16), (195552,))"
      ]
     },
     "execution_count": 128,
     "metadata": {},
     "output_type": "execute_result"
    }
   ],
   "source": [
    "X.shape, y.shape"
   ]
  },
  {
   "cell_type": "code",
   "execution_count": 129,
   "metadata": {},
   "outputs": [],
   "source": [
    "from sklearn.model_selection import train_test_split\n",
    "X_train, X_test, y_train, y_test = train_test_split(X, y, test_size=0.30, random_state=42)"
   ]
  },
  {
   "cell_type": "code",
   "execution_count": 130,
   "metadata": {},
   "outputs": [
    {
     "data": {
      "text/plain": [
       "((136886, 16), (58666, 16), (136886,), (58666,))"
      ]
     },
     "execution_count": 130,
     "metadata": {},
     "output_type": "execute_result"
    }
   ],
   "source": [
    "X_train.shape, X_test.shape, y_train.shape, y_test.shape"
   ]
  },
  {
   "cell_type": "code",
   "execution_count": 131,
   "metadata": {},
   "outputs": [],
   "source": [
    "from sklearn.linear_model import LinearRegression\n",
    "from sklearn.ensemble import RandomForestRegressor\n",
    "\n",
    "\n",
    "\n",
    "import matplotlib.pyplot as plt\n",
    "from sklearn.metrics import confusion_matrix,auc,roc_auc_score\n",
    "from sklearn.metrics import recall_score, precision_score, accuracy_score, f1_score, mean_squared_error"
   ]
  },
  {
   "cell_type": "code",
   "execution_count": 132,
   "metadata": {},
   "outputs": [
    {
     "data": {
      "text/plain": [
       "((136886, 16), (136886,), (58666, 16), (58666,))"
      ]
     },
     "execution_count": 132,
     "metadata": {},
     "output_type": "execute_result"
    }
   ],
   "source": [
    "X_train.shape, y_train.shape, X_test.shape, y_test.shape"
   ]
  },
  {
   "cell_type": "code",
   "execution_count": 133,
   "metadata": {},
   "outputs": [
    {
     "name": "stdout",
     "output_type": "stream",
     "text": [
      "0.09002963388400387\n"
     ]
    }
   ],
   "source": [
    "reg = LinearRegression().fit(X_train, y_train)\n",
    "Rsquared = reg.score(X_test,y_test)\n",
    "\n",
    "print(Rsquared)\n",
    "\n",
    "#reg.predict(test_data)"
   ]
  },
  {
   "cell_type": "code",
   "execution_count": 134,
   "metadata": {},
   "outputs": [
    {
     "name": "stdout",
     "output_type": "stream",
     "text": [
      "0.12295610148038316\n"
     ]
    }
   ],
   "source": [
    "rfc = RandomForestRegressor()\n",
    "rfc.fit(X_train, y_train)\n",
    "performance = rfc.score(X_test,y_test)\n",
    "print(performance)\n",
    "\n",
    "# rfc.predict(test_data)"
   ]
  },
  {
   "cell_type": "code",
   "execution_count": 229,
   "metadata": {},
   "outputs": [],
   "source": [
    "#use test data\n",
    "\n",
    "test_data_raw = pd.read_csv('submission_csv_test_data.csv', parse_dates=['fl_date'])"
   ]
  },
  {
   "cell_type": "code",
   "execution_count": 230,
   "metadata": {},
   "outputs": [
    {
     "data": {
      "text/html": [
       "<div>\n",
       "<style scoped>\n",
       "    .dataframe tbody tr th:only-of-type {\n",
       "        vertical-align: middle;\n",
       "    }\n",
       "\n",
       "    .dataframe tbody tr th {\n",
       "        vertical-align: top;\n",
       "    }\n",
       "\n",
       "    .dataframe thead th {\n",
       "        text-align: right;\n",
       "    }\n",
       "</style>\n",
       "<table border=\"1\" class=\"dataframe\">\n",
       "  <thead>\n",
       "    <tr style=\"text-align: right;\">\n",
       "      <th></th>\n",
       "      <th>Unnamed: 0</th>\n",
       "      <th>fl_date</th>\n",
       "      <th>mkt_unique_carrier</th>\n",
       "      <th>branded_code_share</th>\n",
       "      <th>mkt_carrier</th>\n",
       "      <th>mkt_carrier_fl_num</th>\n",
       "      <th>op_unique_carrier</th>\n",
       "      <th>tail_num</th>\n",
       "      <th>op_carrier_fl_num</th>\n",
       "      <th>origin_airport_id</th>\n",
       "      <th>...</th>\n",
       "      <th>origin_city_name</th>\n",
       "      <th>dest_airport_id</th>\n",
       "      <th>dest</th>\n",
       "      <th>dest_city_name</th>\n",
       "      <th>crs_dep_time</th>\n",
       "      <th>crs_arr_time</th>\n",
       "      <th>dup</th>\n",
       "      <th>crs_elapsed_time</th>\n",
       "      <th>flights</th>\n",
       "      <th>distance</th>\n",
       "    </tr>\n",
       "  </thead>\n",
       "  <tbody>\n",
       "    <tr>\n",
       "      <th>0</th>\n",
       "      <td>0</td>\n",
       "      <td>2020-01-01</td>\n",
       "      <td>WN</td>\n",
       "      <td>WN</td>\n",
       "      <td>WN</td>\n",
       "      <td>5888</td>\n",
       "      <td>WN</td>\n",
       "      <td>N951WN</td>\n",
       "      <td>5888</td>\n",
       "      <td>13891</td>\n",
       "      <td>...</td>\n",
       "      <td>Ontario, CA</td>\n",
       "      <td>14771</td>\n",
       "      <td>SFO</td>\n",
       "      <td>San Francisco, CA</td>\n",
       "      <td>1810</td>\n",
       "      <td>1945</td>\n",
       "      <td>N</td>\n",
       "      <td>95</td>\n",
       "      <td>1</td>\n",
       "      <td>363</td>\n",
       "    </tr>\n",
       "    <tr>\n",
       "      <th>1</th>\n",
       "      <td>1</td>\n",
       "      <td>2020-01-01</td>\n",
       "      <td>WN</td>\n",
       "      <td>WN</td>\n",
       "      <td>WN</td>\n",
       "      <td>6276</td>\n",
       "      <td>WN</td>\n",
       "      <td>N467WN</td>\n",
       "      <td>6276</td>\n",
       "      <td>13891</td>\n",
       "      <td>...</td>\n",
       "      <td>Ontario, CA</td>\n",
       "      <td>14771</td>\n",
       "      <td>SFO</td>\n",
       "      <td>San Francisco, CA</td>\n",
       "      <td>1150</td>\n",
       "      <td>1320</td>\n",
       "      <td>N</td>\n",
       "      <td>90</td>\n",
       "      <td>1</td>\n",
       "      <td>363</td>\n",
       "    </tr>\n",
       "    <tr>\n",
       "      <th>2</th>\n",
       "      <td>2</td>\n",
       "      <td>2020-01-01</td>\n",
       "      <td>WN</td>\n",
       "      <td>WN</td>\n",
       "      <td>WN</td>\n",
       "      <td>4598</td>\n",
       "      <td>WN</td>\n",
       "      <td>N7885A</td>\n",
       "      <td>4598</td>\n",
       "      <td>13891</td>\n",
       "      <td>...</td>\n",
       "      <td>Ontario, CA</td>\n",
       "      <td>14831</td>\n",
       "      <td>SJC</td>\n",
       "      <td>San Jose, CA</td>\n",
       "      <td>2020</td>\n",
       "      <td>2130</td>\n",
       "      <td>N</td>\n",
       "      <td>70</td>\n",
       "      <td>1</td>\n",
       "      <td>333</td>\n",
       "    </tr>\n",
       "    <tr>\n",
       "      <th>3</th>\n",
       "      <td>3</td>\n",
       "      <td>2020-01-01</td>\n",
       "      <td>WN</td>\n",
       "      <td>WN</td>\n",
       "      <td>WN</td>\n",
       "      <td>4761</td>\n",
       "      <td>WN</td>\n",
       "      <td>N551WN</td>\n",
       "      <td>4761</td>\n",
       "      <td>13891</td>\n",
       "      <td>...</td>\n",
       "      <td>Ontario, CA</td>\n",
       "      <td>14831</td>\n",
       "      <td>SJC</td>\n",
       "      <td>San Jose, CA</td>\n",
       "      <td>1340</td>\n",
       "      <td>1455</td>\n",
       "      <td>N</td>\n",
       "      <td>75</td>\n",
       "      <td>1</td>\n",
       "      <td>333</td>\n",
       "    </tr>\n",
       "    <tr>\n",
       "      <th>4</th>\n",
       "      <td>4</td>\n",
       "      <td>2020-01-01</td>\n",
       "      <td>WN</td>\n",
       "      <td>WN</td>\n",
       "      <td>WN</td>\n",
       "      <td>5162</td>\n",
       "      <td>WN</td>\n",
       "      <td>N968WN</td>\n",
       "      <td>5162</td>\n",
       "      <td>13891</td>\n",
       "      <td>...</td>\n",
       "      <td>Ontario, CA</td>\n",
       "      <td>14831</td>\n",
       "      <td>SJC</td>\n",
       "      <td>San Jose, CA</td>\n",
       "      <td>915</td>\n",
       "      <td>1035</td>\n",
       "      <td>N</td>\n",
       "      <td>80</td>\n",
       "      <td>1</td>\n",
       "      <td>333</td>\n",
       "    </tr>\n",
       "  </tbody>\n",
       "</table>\n",
       "<p>5 rows × 21 columns</p>\n",
       "</div>"
      ],
      "text/plain": [
       "   Unnamed: 0    fl_date mkt_unique_carrier branded_code_share mkt_carrier  \\\n",
       "0           0 2020-01-01                 WN                 WN          WN   \n",
       "1           1 2020-01-01                 WN                 WN          WN   \n",
       "2           2 2020-01-01                 WN                 WN          WN   \n",
       "3           3 2020-01-01                 WN                 WN          WN   \n",
       "4           4 2020-01-01                 WN                 WN          WN   \n",
       "\n",
       "   mkt_carrier_fl_num op_unique_carrier tail_num  op_carrier_fl_num  \\\n",
       "0                5888                WN   N951WN               5888   \n",
       "1                6276                WN   N467WN               6276   \n",
       "2                4598                WN   N7885A               4598   \n",
       "3                4761                WN   N551WN               4761   \n",
       "4                5162                WN   N968WN               5162   \n",
       "\n",
       "   origin_airport_id  ... origin_city_name dest_airport_id  dest  \\\n",
       "0              13891  ...      Ontario, CA           14771   SFO   \n",
       "1              13891  ...      Ontario, CA           14771   SFO   \n",
       "2              13891  ...      Ontario, CA           14831   SJC   \n",
       "3              13891  ...      Ontario, CA           14831   SJC   \n",
       "4              13891  ...      Ontario, CA           14831   SJC   \n",
       "\n",
       "      dest_city_name crs_dep_time  crs_arr_time  dup crs_elapsed_time  \\\n",
       "0  San Francisco, CA         1810          1945    N               95   \n",
       "1  San Francisco, CA         1150          1320    N               90   \n",
       "2       San Jose, CA         2020          2130    N               70   \n",
       "3       San Jose, CA         1340          1455    N               75   \n",
       "4       San Jose, CA          915          1035    N               80   \n",
       "\n",
       "   flights  distance  \n",
       "0        1       363  \n",
       "1        1       363  \n",
       "2        1       333  \n",
       "3        1       333  \n",
       "4        1       333  \n",
       "\n",
       "[5 rows x 21 columns]"
      ]
     },
     "execution_count": 230,
     "metadata": {},
     "output_type": "execute_result"
    }
   ],
   "source": [
    "test_data_raw.head(5)"
   ]
  },
  {
   "cell_type": "code",
   "execution_count": 231,
   "metadata": {},
   "outputs": [
    {
     "data": {
      "text/plain": [
       "Index(['fl_date', 'mkt_carrier', 'arr_delay', 'dep_delay', 'tail_num',\n",
       "       'mkt_carrier_fl_num', 'origin', 'dest', 'crs_dep_time', 'crs_arr_time',\n",
       "       'crs_elapsed_time', 'distance', 'count_carrier_delay',\n",
       "       'avg_carrier_delay', 'count_origin_delay', 'avg_origin_delay',\n",
       "       'count_dest_delay', 'avg_dest_delay', 'count_route_delay',\n",
       "       'avg_route_delay', 'count_tailnum_delay', 'avg_tailnum_delay',\n",
       "       'count_delay_distance', 'avg_delay_distance'],\n",
       "      dtype='object')"
      ]
     },
     "execution_count": 231,
     "metadata": {},
     "output_type": "execute_result"
    }
   ],
   "source": [
    "model_df.columns"
   ]
  },
  {
   "cell_type": "code",
   "execution_count": 232,
   "metadata": {},
   "outputs": [
    {
     "data": {
      "text/plain": [
       "Index(['crs_dep_time', 'crs_arr_time', 'crs_elapsed_time', 'distance',\n",
       "       'count_carrier_delay', 'avg_carrier_delay', 'count_origin_delay',\n",
       "       'avg_origin_delay', 'count_dest_delay', 'avg_dest_delay',\n",
       "       'count_route_delay', 'avg_route_delay', 'count_tailnum_delay',\n",
       "       'avg_tailnum_delay', 'count_delay_distance', 'avg_delay_distance'],\n",
       "      dtype='object')"
      ]
     },
     "execution_count": 232,
     "metadata": {},
     "output_type": "execute_result"
    }
   ],
   "source": [
    "X.columns"
   ]
  },
  {
   "cell_type": "code",
   "execution_count": 233,
   "metadata": {},
   "outputs": [],
   "source": [
    "test_data_columns = ['fl_date', 'mkt_carrier', 'tail_num', 'mkt_carrier_fl_num', 'origin',\n",
    "       'dest', 'crs_dep_time', 'crs_arr_time',\n",
    "       'crs_elapsed_time', 'distance']\n",
    "\n",
    "\n",
    "test_df_engineered = test_data_raw[test_data_columns]"
   ]
  },
  {
   "cell_type": "code",
   "execution_count": 271,
   "metadata": {},
   "outputs": [
    {
     "data": {
      "text/plain": [
       "(Index(['mkt_carrier', 'count_carrier_delay', 'avg_carrier_delay'], dtype='object'),\n",
       " (11, 3))"
      ]
     },
     "execution_count": 271,
     "metadata": {},
     "output_type": "execute_result"
    }
   ],
   "source": [
    "df_carriers_grouped.columns, df_carriers_grouped.shape"
   ]
  },
  {
   "cell_type": "code",
   "execution_count": 234,
   "metadata": {},
   "outputs": [],
   "source": [
    "test_df_engineered = test_df_engineered.merge(df_carriers_grouped,\n",
    "                                    left_on='mkt_carrier', \n",
    "                                    right_on = 'mkt_carrier',\n",
    "                                    how='inner')"
   ]
  },
  {
   "cell_type": "code",
   "execution_count": 235,
   "metadata": {},
   "outputs": [],
   "source": [
    "test_df_engineered = test_df_engineered.merge(df_origin_grouped,\n",
    "                                    left_on='origin', \n",
    "                                    right_on = 'origin',\n",
    "                                    how='inner')"
   ]
  },
  {
   "cell_type": "code",
   "execution_count": 236,
   "metadata": {},
   "outputs": [],
   "source": [
    "test_df_engineered = test_df_engineered.merge(df_dest_grouped,\n",
    "                                    left_on='dest', \n",
    "                                    right_on = 'dest',\n",
    "                                    how='inner')"
   ]
  },
  {
   "cell_type": "code",
   "execution_count": 237,
   "metadata": {},
   "outputs": [],
   "source": [
    "test_df_engineered = test_df_engineered.merge(df_route_group,\n",
    "                                    left_on='mkt_carrier_fl_num', \n",
    "                                    right_on = 'mkt_carrier_fl_num',\n",
    "                                    how='inner')"
   ]
  },
  {
   "cell_type": "code",
   "execution_count": 238,
   "metadata": {},
   "outputs": [],
   "source": [
    "test_df_engineered = test_df_engineered.merge(df_tailnum_grouped,\n",
    "                                    left_on='tail_num', \n",
    "                                    right_on = 'tail_num',\n",
    "                                    how='inner')"
   ]
  },
  {
   "cell_type": "code",
   "execution_count": 239,
   "metadata": {},
   "outputs": [],
   "source": [
    "test_df_engineered = test_df_engineered.merge(df_distance_grouped,\n",
    "                                    left_on='distance', \n",
    "                                    right_on = 'distance',\n",
    "                                    how='inner')"
   ]
  },
  {
   "cell_type": "code",
   "execution_count": 240,
   "metadata": {},
   "outputs": [
    {
     "data": {
      "text/plain": [
       "(193, 22)"
      ]
     },
     "execution_count": 240,
     "metadata": {},
     "output_type": "execute_result"
    }
   ],
   "source": [
    "test_df_engineered.shape"
   ]
  },
  {
   "cell_type": "code",
   "execution_count": 241,
   "metadata": {},
   "outputs": [],
   "source": [
    "test_data_columns_2 = ['crs_dep_time', 'crs_arr_time', 'crs_elapsed_time', 'distance',\n",
    "       'count_carrier_delay', 'avg_carrier_delay', 'count_origin_delay',\n",
    "       'avg_origin_delay', 'count_dest_delay', 'avg_dest_delay',\n",
    "       'count_route_delay', 'avg_route_delay', 'count_tailnum_delay',\n",
    "       'avg_tailnum_delay', 'count_delay_distance', 'avg_delay_distance']\n",
    "\n",
    "test_df_engineered = test_df_engineered[test_data_columns_2]"
   ]
  },
  {
   "cell_type": "code",
   "execution_count": 242,
   "metadata": {},
   "outputs": [
    {
     "data": {
      "text/html": [
       "<div>\n",
       "<style scoped>\n",
       "    .dataframe tbody tr th:only-of-type {\n",
       "        vertical-align: middle;\n",
       "    }\n",
       "\n",
       "    .dataframe tbody tr th {\n",
       "        vertical-align: top;\n",
       "    }\n",
       "\n",
       "    .dataframe thead th {\n",
       "        text-align: right;\n",
       "    }\n",
       "</style>\n",
       "<table border=\"1\" class=\"dataframe\">\n",
       "  <thead>\n",
       "    <tr style=\"text-align: right;\">\n",
       "      <th></th>\n",
       "      <th>crs_dep_time</th>\n",
       "      <th>crs_arr_time</th>\n",
       "      <th>crs_elapsed_time</th>\n",
       "      <th>distance</th>\n",
       "      <th>count_carrier_delay</th>\n",
       "      <th>avg_carrier_delay</th>\n",
       "      <th>count_origin_delay</th>\n",
       "      <th>avg_origin_delay</th>\n",
       "      <th>count_dest_delay</th>\n",
       "      <th>avg_dest_delay</th>\n",
       "      <th>count_route_delay</th>\n",
       "      <th>avg_route_delay</th>\n",
       "      <th>count_tailnum_delay</th>\n",
       "      <th>avg_tailnum_delay</th>\n",
       "      <th>count_delay_distance</th>\n",
       "      <th>avg_delay_distance</th>\n",
       "    </tr>\n",
       "  </thead>\n",
       "  <tbody>\n",
       "    <tr>\n",
       "      <th>0</th>\n",
       "      <td>1810</td>\n",
       "      <td>1945</td>\n",
       "      <td>95</td>\n",
       "      <td>363</td>\n",
       "      <td>12087</td>\n",
       "      <td>10.697139</td>\n",
       "      <td>159</td>\n",
       "      <td>8.521505</td>\n",
       "      <td>1691</td>\n",
       "      <td>19.797774</td>\n",
       "      <td>8</td>\n",
       "      <td>21.360000</td>\n",
       "      <td>23</td>\n",
       "      <td>10.946429</td>\n",
       "      <td>82</td>\n",
       "      <td>14.801858</td>\n",
       "    </tr>\n",
       "    <tr>\n",
       "      <th>1</th>\n",
       "      <td>1150</td>\n",
       "      <td>1320</td>\n",
       "      <td>90</td>\n",
       "      <td>363</td>\n",
       "      <td>12087</td>\n",
       "      <td>10.697139</td>\n",
       "      <td>159</td>\n",
       "      <td>8.521505</td>\n",
       "      <td>1691</td>\n",
       "      <td>19.797774</td>\n",
       "      <td>10</td>\n",
       "      <td>14.041667</td>\n",
       "      <td>8</td>\n",
       "      <td>8.352941</td>\n",
       "      <td>82</td>\n",
       "      <td>14.801858</td>\n",
       "    </tr>\n",
       "    <tr>\n",
       "      <th>2</th>\n",
       "      <td>2020</td>\n",
       "      <td>2130</td>\n",
       "      <td>70</td>\n",
       "      <td>333</td>\n",
       "      <td>12087</td>\n",
       "      <td>10.697139</td>\n",
       "      <td>159</td>\n",
       "      <td>8.521505</td>\n",
       "      <td>597</td>\n",
       "      <td>12.367112</td>\n",
       "      <td>7</td>\n",
       "      <td>52.590909</td>\n",
       "      <td>27</td>\n",
       "      <td>8.583333</td>\n",
       "      <td>45</td>\n",
       "      <td>11.848684</td>\n",
       "    </tr>\n",
       "    <tr>\n",
       "      <th>3</th>\n",
       "      <td>1340</td>\n",
       "      <td>1455</td>\n",
       "      <td>75</td>\n",
       "      <td>333</td>\n",
       "      <td>12087</td>\n",
       "      <td>10.697139</td>\n",
       "      <td>159</td>\n",
       "      <td>8.521505</td>\n",
       "      <td>597</td>\n",
       "      <td>12.367112</td>\n",
       "      <td>10</td>\n",
       "      <td>13.629630</td>\n",
       "      <td>17</td>\n",
       "      <td>11.574074</td>\n",
       "      <td>45</td>\n",
       "      <td>11.848684</td>\n",
       "    </tr>\n",
       "    <tr>\n",
       "      <th>4</th>\n",
       "      <td>915</td>\n",
       "      <td>1035</td>\n",
       "      <td>80</td>\n",
       "      <td>333</td>\n",
       "      <td>12087</td>\n",
       "      <td>10.697139</td>\n",
       "      <td>159</td>\n",
       "      <td>8.521505</td>\n",
       "      <td>597</td>\n",
       "      <td>12.367112</td>\n",
       "      <td>13</td>\n",
       "      <td>20.290323</td>\n",
       "      <td>18</td>\n",
       "      <td>12.357143</td>\n",
       "      <td>45</td>\n",
       "      <td>11.848684</td>\n",
       "    </tr>\n",
       "    <tr>\n",
       "      <th>...</th>\n",
       "      <td>...</td>\n",
       "      <td>...</td>\n",
       "      <td>...</td>\n",
       "      <td>...</td>\n",
       "      <td>...</td>\n",
       "      <td>...</td>\n",
       "      <td>...</td>\n",
       "      <td>...</td>\n",
       "      <td>...</td>\n",
       "      <td>...</td>\n",
       "      <td>...</td>\n",
       "      <td>...</td>\n",
       "      <td>...</td>\n",
       "      <td>...</td>\n",
       "      <td>...</td>\n",
       "      <td>...</td>\n",
       "    </tr>\n",
       "    <tr>\n",
       "      <th>188</th>\n",
       "      <td>1300</td>\n",
       "      <td>1700</td>\n",
       "      <td>180</td>\n",
       "      <td>1276</td>\n",
       "      <td>12087</td>\n",
       "      <td>10.697139</td>\n",
       "      <td>1495</td>\n",
       "      <td>12.009268</td>\n",
       "      <td>1160</td>\n",
       "      <td>12.411928</td>\n",
       "      <td>10</td>\n",
       "      <td>12.047619</td>\n",
       "      <td>22</td>\n",
       "      <td>11.775510</td>\n",
       "      <td>58</td>\n",
       "      <td>7.984848</td>\n",
       "    </tr>\n",
       "    <tr>\n",
       "      <th>189</th>\n",
       "      <td>1105</td>\n",
       "      <td>1415</td>\n",
       "      <td>130</td>\n",
       "      <td>833</td>\n",
       "      <td>12087</td>\n",
       "      <td>10.697139</td>\n",
       "      <td>1495</td>\n",
       "      <td>12.009268</td>\n",
       "      <td>226</td>\n",
       "      <td>13.749186</td>\n",
       "      <td>8</td>\n",
       "      <td>7.736842</td>\n",
       "      <td>18</td>\n",
       "      <td>10.195652</td>\n",
       "      <td>46</td>\n",
       "      <td>17.416058</td>\n",
       "    </tr>\n",
       "    <tr>\n",
       "      <th>190</th>\n",
       "      <td>1840</td>\n",
       "      <td>2135</td>\n",
       "      <td>115</td>\n",
       "      <td>833</td>\n",
       "      <td>12087</td>\n",
       "      <td>10.697139</td>\n",
       "      <td>1495</td>\n",
       "      <td>12.009268</td>\n",
       "      <td>226</td>\n",
       "      <td>13.749186</td>\n",
       "      <td>6</td>\n",
       "      <td>35.137931</td>\n",
       "      <td>12</td>\n",
       "      <td>16.903226</td>\n",
       "      <td>46</td>\n",
       "      <td>17.416058</td>\n",
       "    </tr>\n",
       "    <tr>\n",
       "      <th>191</th>\n",
       "      <td>1020</td>\n",
       "      <td>1615</td>\n",
       "      <td>235</td>\n",
       "      <td>1814</td>\n",
       "      <td>12087</td>\n",
       "      <td>10.697139</td>\n",
       "      <td>1495</td>\n",
       "      <td>12.009268</td>\n",
       "      <td>420</td>\n",
       "      <td>13.660543</td>\n",
       "      <td>6</td>\n",
       "      <td>11.333333</td>\n",
       "      <td>12</td>\n",
       "      <td>13.368421</td>\n",
       "      <td>41</td>\n",
       "      <td>6.478261</td>\n",
       "    </tr>\n",
       "    <tr>\n",
       "      <th>192</th>\n",
       "      <td>1020</td>\n",
       "      <td>1630</td>\n",
       "      <td>250</td>\n",
       "      <td>1891</td>\n",
       "      <td>12087</td>\n",
       "      <td>10.697139</td>\n",
       "      <td>1495</td>\n",
       "      <td>12.009268</td>\n",
       "      <td>560</td>\n",
       "      <td>16.638889</td>\n",
       "      <td>7</td>\n",
       "      <td>10.800000</td>\n",
       "      <td>12</td>\n",
       "      <td>5.605263</td>\n",
       "      <td>15</td>\n",
       "      <td>15.783784</td>\n",
       "    </tr>\n",
       "  </tbody>\n",
       "</table>\n",
       "<p>193 rows × 16 columns</p>\n",
       "</div>"
      ],
      "text/plain": [
       "     crs_dep_time  crs_arr_time  crs_elapsed_time  distance  \\\n",
       "0            1810          1945                95       363   \n",
       "1            1150          1320                90       363   \n",
       "2            2020          2130                70       333   \n",
       "3            1340          1455                75       333   \n",
       "4             915          1035                80       333   \n",
       "..            ...           ...               ...       ...   \n",
       "188          1300          1700               180      1276   \n",
       "189          1105          1415               130       833   \n",
       "190          1840          2135               115       833   \n",
       "191          1020          1615               235      1814   \n",
       "192          1020          1630               250      1891   \n",
       "\n",
       "     count_carrier_delay  avg_carrier_delay  count_origin_delay  \\\n",
       "0                  12087          10.697139                 159   \n",
       "1                  12087          10.697139                 159   \n",
       "2                  12087          10.697139                 159   \n",
       "3                  12087          10.697139                 159   \n",
       "4                  12087          10.697139                 159   \n",
       "..                   ...                ...                 ...   \n",
       "188                12087          10.697139                1495   \n",
       "189                12087          10.697139                1495   \n",
       "190                12087          10.697139                1495   \n",
       "191                12087          10.697139                1495   \n",
       "192                12087          10.697139                1495   \n",
       "\n",
       "     avg_origin_delay  count_dest_delay  avg_dest_delay  count_route_delay  \\\n",
       "0            8.521505              1691       19.797774                  8   \n",
       "1            8.521505              1691       19.797774                 10   \n",
       "2            8.521505               597       12.367112                  7   \n",
       "3            8.521505               597       12.367112                 10   \n",
       "4            8.521505               597       12.367112                 13   \n",
       "..                ...               ...             ...                ...   \n",
       "188         12.009268              1160       12.411928                 10   \n",
       "189         12.009268               226       13.749186                  8   \n",
       "190         12.009268               226       13.749186                  6   \n",
       "191         12.009268               420       13.660543                  6   \n",
       "192         12.009268               560       16.638889                  7   \n",
       "\n",
       "     avg_route_delay  count_tailnum_delay  avg_tailnum_delay  \\\n",
       "0          21.360000                   23          10.946429   \n",
       "1          14.041667                    8           8.352941   \n",
       "2          52.590909                   27           8.583333   \n",
       "3          13.629630                   17          11.574074   \n",
       "4          20.290323                   18          12.357143   \n",
       "..               ...                  ...                ...   \n",
       "188        12.047619                   22          11.775510   \n",
       "189         7.736842                   18          10.195652   \n",
       "190        35.137931                   12          16.903226   \n",
       "191        11.333333                   12          13.368421   \n",
       "192        10.800000                   12           5.605263   \n",
       "\n",
       "     count_delay_distance  avg_delay_distance  \n",
       "0                      82           14.801858  \n",
       "1                      82           14.801858  \n",
       "2                      45           11.848684  \n",
       "3                      45           11.848684  \n",
       "4                      45           11.848684  \n",
       "..                    ...                 ...  \n",
       "188                    58            7.984848  \n",
       "189                    46           17.416058  \n",
       "190                    46           17.416058  \n",
       "191                    41            6.478261  \n",
       "192                    15           15.783784  \n",
       "\n",
       "[193 rows x 16 columns]"
      ]
     },
     "execution_count": 242,
     "metadata": {},
     "output_type": "execute_result"
    }
   ],
   "source": [
    "test_df_engineered"
   ]
  },
  {
   "cell_type": "code",
   "execution_count": 243,
   "metadata": {},
   "outputs": [],
   "source": [
    "# test_df_features = ['fl_date','mkt_carrier','origin','dest','tail_num','mkt_carrier_fl_num']\n",
    "# test_df = test_df.drop(['fl_date','mkt_carrier','origin','dest','tail_num','mkt_carrier_fl_num'], axis=1)"
   ]
  },
  {
   "cell_type": "code",
   "execution_count": 244,
   "metadata": {},
   "outputs": [
    {
     "data": {
      "text/plain": [
       "(193, 16)"
      ]
     },
     "execution_count": 244,
     "metadata": {},
     "output_type": "execute_result"
    }
   ],
   "source": [
    "test_df_engineered.shape"
   ]
  },
  {
   "cell_type": "code",
   "execution_count": 245,
   "metadata": {},
   "outputs": [
    {
     "data": {
      "text/plain": [
       "array([[0.74052478, 0.82905983, 0.1627907 , ..., 0.38296425, 0.35064935,\n",
       "        0.62823647],\n",
       "       [0.35568513, 0.56196581, 0.13953488, ..., 0.28413588, 0.35064935,\n",
       "        0.62823647],\n",
       "       [0.86297376, 0.90811966, 0.04651163, ..., 0.29291528, 0.19047619,\n",
       "        0.45563882],\n",
       "       ...,\n",
       "       [0.75801749, 0.91025641, 0.25581395, ..., 0.60995612, 0.19480519,\n",
       "        0.78102294],\n",
       "       [0.27988338, 0.68803419, 0.81395349, ..., 0.47525757, 0.17316017,\n",
       "        0.14176544],\n",
       "       [0.27988338, 0.69444444, 0.88372093, ..., 0.17943186, 0.06060606,\n",
       "        0.68562496]])"
      ]
     },
     "execution_count": 245,
     "metadata": {},
     "output_type": "execute_result"
    }
   ],
   "source": [
    "scaler.fit_transform(test_df_engineered)"
   ]
  },
  {
   "cell_type": "code",
   "execution_count": 246,
   "metadata": {},
   "outputs": [],
   "source": [
    "linear_predict =  reg.predict(test_df_engineered)"
   ]
  },
  {
   "cell_type": "code",
   "execution_count": 247,
   "metadata": {},
   "outputs": [],
   "source": [
    "RFR_predict = rfc.predict(test_df_engineered)"
   ]
  },
  {
   "cell_type": "code",
   "execution_count": 248,
   "metadata": {},
   "outputs": [
    {
     "name": "stdout",
     "output_type": "stream",
     "text": [
      "[17.24       11.57       26.67       22.77        3.63        2.28\n",
      " 24.426       3.86       12.81       22.63        1.4        23.21\n",
      " 15.53        3.58       13.84       31.84        0.74       24.13\n",
      "  4.28        4.34        9.03       14.15666667 19.82        2.14\n",
      "  4.47        4.15       11.72       11.51       33.93       22.91\n",
      "  2.43        4.32        8.18       19.12       15.95        6.92\n",
      "  4.6        14.07        0.82        0.9        13.05       12.81\n",
      " 21.33        2.93       20.54       19.46       11.09       24.86\n",
      " 13.79        8.39       17.85        1.8         8.02        3.52\n",
      " 35.23        7.36        2.2        49.78        6.08        6.66\n",
      "  2.71        4.52        7.99        6.84        6.69       21.89\n",
      "  4.22        9.68        6.69        5.82        4.19666667  2.84\n",
      "  0.89        0.64        2.98       23.29        3.25        6.2\n",
      " 16.67       20.77        6.68        2.85        3.45       12.4\n",
      "  7.39        7.51        6.04        5.68       17.99        4.02\n",
      "  4.82        1.86        4.48       17.89       17.24       18.98\n",
      "  4.75        4.63        9.5         3.75       10.35       19.99\n",
      "  7.25        9.62        4.35        4.07       19.44       21.98\n",
      " 18.6        16.12        7.04        6.76       18.09       10.79\n",
      " 16.158      28.45       19.6        22.09       24.56        4.14\n",
      "  4.72        7.18        1.97        2.72        8.27       27.41\n",
      " 10.81        5.27        8.43       11.82        0.86333333 24.64\n",
      " 29.9         8.18        3.2        16.73       16.4        16.65\n",
      "  7.8         0.79       11.58        2.56       10.28       11.53\n",
      "  3.45        2.57        4.47       10.485      21.62       11.8\n",
      "  6.83       15.7        16.12        6.76        4.61       17.28\n",
      " 34.63        1.77        8.29        1.29       19.49        6.05\n",
      "  4.52        7.49        5.29       10.         30.71        6.53\n",
      "  1.54        3.99        5.25        7.07        9.79        3.54\n",
      " 18.46       16.3         1.77666667 21.74       13.8         3.42\n",
      "  1.96        8.64        3.73        3.91        1.94       17.29\n",
      " 16.16       13.12       12.17        3.76       39.59        8.57\n",
      "  6.53      ]\n"
     ]
    }
   ],
   "source": [
    "print(RFR_predict)"
   ]
  },
  {
   "cell_type": "code",
   "execution_count": 249,
   "metadata": {},
   "outputs": [],
   "source": [
    "RFR_predict_columns = ['predicted_delay']\n",
    "RFR_predict_DF = pd.DataFrame(RFR_predict, columns=RFR_predict_columns)"
   ]
  },
  {
   "cell_type": "code",
   "execution_count": 273,
   "metadata": {},
   "outputs": [
    {
     "data": {
      "text/plain": [
       "(193, 1)"
      ]
     },
     "execution_count": 273,
     "metadata": {},
     "output_type": "execute_result"
    }
   ],
   "source": [
    "RFR_predict_DF.shape"
   ]
  },
  {
   "cell_type": "code",
   "execution_count": 276,
   "metadata": {},
   "outputs": [
    {
     "data": {
      "text/plain": [
       "((193, 16),\n",
       " Index(['crs_dep_time', 'crs_arr_time', 'crs_elapsed_time', 'distance',\n",
       "        'count_carrier_delay', 'avg_carrier_delay', 'count_origin_delay',\n",
       "        'avg_origin_delay', 'count_dest_delay', 'avg_dest_delay',\n",
       "        'count_route_delay', 'avg_route_delay', 'count_tailnum_delay',\n",
       "        'avg_tailnum_delay', 'count_delay_distance', 'avg_delay_distance'],\n",
       "       dtype='object'))"
      ]
     },
     "execution_count": 276,
     "metadata": {},
     "output_type": "execute_result"
    }
   ],
   "source": [
    "test_df_engineered.shape, test_df_engineered.columns"
   ]
  },
  {
   "cell_type": "code",
   "execution_count": null,
   "metadata": {},
   "outputs": [],
   "source": [
    "fl_date,mkt_carrier,mkt_carrier_fl_num,origin,dest,predicted_delay"
   ]
  },
  {
   "cell_type": "code",
   "execution_count": 250,
   "metadata": {},
   "outputs": [
    {
     "data": {
      "text/html": [
       "<div>\n",
       "<style scoped>\n",
       "    .dataframe tbody tr th:only-of-type {\n",
       "        vertical-align: middle;\n",
       "    }\n",
       "\n",
       "    .dataframe tbody tr th {\n",
       "        vertical-align: top;\n",
       "    }\n",
       "\n",
       "    .dataframe thead th {\n",
       "        text-align: right;\n",
       "    }\n",
       "</style>\n",
       "<table border=\"1\" class=\"dataframe\">\n",
       "  <thead>\n",
       "    <tr style=\"text-align: right;\">\n",
       "      <th></th>\n",
       "      <th>predicted_delay</th>\n",
       "    </tr>\n",
       "  </thead>\n",
       "  <tbody>\n",
       "    <tr>\n",
       "      <th>0</th>\n",
       "      <td>17.24</td>\n",
       "    </tr>\n",
       "    <tr>\n",
       "      <th>1</th>\n",
       "      <td>11.57</td>\n",
       "    </tr>\n",
       "    <tr>\n",
       "      <th>2</th>\n",
       "      <td>26.67</td>\n",
       "    </tr>\n",
       "    <tr>\n",
       "      <th>3</th>\n",
       "      <td>22.77</td>\n",
       "    </tr>\n",
       "    <tr>\n",
       "      <th>4</th>\n",
       "      <td>3.63</td>\n",
       "    </tr>\n",
       "  </tbody>\n",
       "</table>\n",
       "</div>"
      ],
      "text/plain": [
       "   predicted_delay\n",
       "0            17.24\n",
       "1            11.57\n",
       "2            26.67\n",
       "3            22.77\n",
       "4             3.63"
      ]
     },
     "execution_count": 250,
     "metadata": {},
     "output_type": "execute_result"
    }
   ],
   "source": [
    "RFR_predict_DF.head(5)"
   ]
  },
  {
   "cell_type": "code",
   "execution_count": 251,
   "metadata": {},
   "outputs": [],
   "source": [
    "RFR_predict_DF = RFR_predict_DF.clip(lower=0)"
   ]
  },
  {
   "cell_type": "code",
   "execution_count": null,
   "metadata": {},
   "outputs": [],
   "source": [
    "RFR_predict_DF.to_csv('Flight_Prediction.csv')"
   ]
  },
  {
   "cell_type": "code",
   "execution_count": 252,
   "metadata": {},
   "outputs": [],
   "source": [
    "final_features = ['fl_date','mkt_carrier','mkt_carrier_fl_num','origin','dest']\n",
    "test_df = test_data_raw[final_features]"
   ]
  },
  {
   "cell_type": "code",
   "execution_count": 253,
   "metadata": {},
   "outputs": [],
   "source": [
    "test_df = pd.concat([RFR_predict_DF, test_df], ignore_index=True)"
   ]
  },
  {
   "cell_type": "code",
   "execution_count": 254,
   "metadata": {},
   "outputs": [
    {
     "data": {
      "text/html": [
       "<div>\n",
       "<style scoped>\n",
       "    .dataframe tbody tr th:only-of-type {\n",
       "        vertical-align: middle;\n",
       "    }\n",
       "\n",
       "    .dataframe tbody tr th {\n",
       "        vertical-align: top;\n",
       "    }\n",
       "\n",
       "    .dataframe thead th {\n",
       "        text-align: right;\n",
       "    }\n",
       "</style>\n",
       "<table border=\"1\" class=\"dataframe\">\n",
       "  <thead>\n",
       "    <tr style=\"text-align: right;\">\n",
       "      <th></th>\n",
       "      <th>predicted_delay</th>\n",
       "      <th>fl_date</th>\n",
       "      <th>mkt_carrier</th>\n",
       "      <th>mkt_carrier_fl_num</th>\n",
       "      <th>origin</th>\n",
       "      <th>dest</th>\n",
       "    </tr>\n",
       "  </thead>\n",
       "  <tbody>\n",
       "    <tr>\n",
       "      <th>0</th>\n",
       "      <td>17.24</td>\n",
       "      <td>NaT</td>\n",
       "      <td>NaN</td>\n",
       "      <td>NaN</td>\n",
       "      <td>NaN</td>\n",
       "      <td>NaN</td>\n",
       "    </tr>\n",
       "    <tr>\n",
       "      <th>1</th>\n",
       "      <td>11.57</td>\n",
       "      <td>NaT</td>\n",
       "      <td>NaN</td>\n",
       "      <td>NaN</td>\n",
       "      <td>NaN</td>\n",
       "      <td>NaN</td>\n",
       "    </tr>\n",
       "    <tr>\n",
       "      <th>2</th>\n",
       "      <td>26.67</td>\n",
       "      <td>NaT</td>\n",
       "      <td>NaN</td>\n",
       "      <td>NaN</td>\n",
       "      <td>NaN</td>\n",
       "      <td>NaN</td>\n",
       "    </tr>\n",
       "    <tr>\n",
       "      <th>3</th>\n",
       "      <td>22.77</td>\n",
       "      <td>NaT</td>\n",
       "      <td>NaN</td>\n",
       "      <td>NaN</td>\n",
       "      <td>NaN</td>\n",
       "      <td>NaN</td>\n",
       "    </tr>\n",
       "    <tr>\n",
       "      <th>4</th>\n",
       "      <td>3.63</td>\n",
       "      <td>NaT</td>\n",
       "      <td>NaN</td>\n",
       "      <td>NaN</td>\n",
       "      <td>NaN</td>\n",
       "      <td>NaN</td>\n",
       "    </tr>\n",
       "  </tbody>\n",
       "</table>\n",
       "</div>"
      ],
      "text/plain": [
       "   predicted_delay fl_date mkt_carrier  mkt_carrier_fl_num origin dest\n",
       "0            17.24     NaT         NaN                 NaN    NaN  NaN\n",
       "1            11.57     NaT         NaN                 NaN    NaN  NaN\n",
       "2            26.67     NaT         NaN                 NaN    NaN  NaN\n",
       "3            22.77     NaT         NaN                 NaN    NaN  NaN\n",
       "4             3.63     NaT         NaN                 NaN    NaN  NaN"
      ]
     },
     "execution_count": 254,
     "metadata": {},
     "output_type": "execute_result"
    }
   ],
   "source": [
    "test_df.head()"
   ]
  },
  {
   "cell_type": "code",
   "execution_count": 267,
   "metadata": {},
   "outputs": [
    {
     "data": {
      "text/html": [
       "<div>\n",
       "<style scoped>\n",
       "    .dataframe tbody tr th:only-of-type {\n",
       "        vertical-align: middle;\n",
       "    }\n",
       "\n",
       "    .dataframe tbody tr th {\n",
       "        vertical-align: top;\n",
       "    }\n",
       "\n",
       "    .dataframe thead th {\n",
       "        text-align: right;\n",
       "    }\n",
       "</style>\n",
       "<table border=\"1\" class=\"dataframe\">\n",
       "  <thead>\n",
       "    <tr style=\"text-align: right;\">\n",
       "      <th></th>\n",
       "      <th>index</th>\n",
       "      <th>predicted_delay</th>\n",
       "      <th>fl_date</th>\n",
       "      <th>mkt_carrier</th>\n",
       "      <th>mkt_carrier_fl_num</th>\n",
       "      <th>origin</th>\n",
       "      <th>dest</th>\n",
       "    </tr>\n",
       "  </thead>\n",
       "  <tbody>\n",
       "    <tr>\n",
       "      <th>0</th>\n",
       "      <td>0</td>\n",
       "      <td>17.24</td>\n",
       "      <td>NaT</td>\n",
       "      <td>NaN</td>\n",
       "      <td>NaN</td>\n",
       "      <td>NaN</td>\n",
       "      <td>NaN</td>\n",
       "    </tr>\n",
       "    <tr>\n",
       "      <th>1</th>\n",
       "      <td>1</td>\n",
       "      <td>11.57</td>\n",
       "      <td>NaT</td>\n",
       "      <td>NaN</td>\n",
       "      <td>NaN</td>\n",
       "      <td>NaN</td>\n",
       "      <td>NaN</td>\n",
       "    </tr>\n",
       "    <tr>\n",
       "      <th>2</th>\n",
       "      <td>2</td>\n",
       "      <td>26.67</td>\n",
       "      <td>NaT</td>\n",
       "      <td>NaN</td>\n",
       "      <td>NaN</td>\n",
       "      <td>NaN</td>\n",
       "      <td>NaN</td>\n",
       "    </tr>\n",
       "    <tr>\n",
       "      <th>3</th>\n",
       "      <td>3</td>\n",
       "      <td>22.77</td>\n",
       "      <td>NaT</td>\n",
       "      <td>NaN</td>\n",
       "      <td>NaN</td>\n",
       "      <td>NaN</td>\n",
       "      <td>NaN</td>\n",
       "    </tr>\n",
       "    <tr>\n",
       "      <th>4</th>\n",
       "      <td>4</td>\n",
       "      <td>3.63</td>\n",
       "      <td>NaT</td>\n",
       "      <td>NaN</td>\n",
       "      <td>NaN</td>\n",
       "      <td>NaN</td>\n",
       "      <td>NaN</td>\n",
       "    </tr>\n",
       "    <tr>\n",
       "      <th>...</th>\n",
       "      <td>...</td>\n",
       "      <td>...</td>\n",
       "      <td>...</td>\n",
       "      <td>...</td>\n",
       "      <td>...</td>\n",
       "      <td>...</td>\n",
       "      <td>...</td>\n",
       "    </tr>\n",
       "    <tr>\n",
       "      <th>581</th>\n",
       "      <td>581</td>\n",
       "      <td>NaN</td>\n",
       "      <td>2020-01-01</td>\n",
       "      <td>WN</td>\n",
       "      <td>1639.0</td>\n",
       "      <td>PHX</td>\n",
       "      <td>SAN</td>\n",
       "    </tr>\n",
       "    <tr>\n",
       "      <th>582</th>\n",
       "      <td>582</td>\n",
       "      <td>NaN</td>\n",
       "      <td>2020-01-01</td>\n",
       "      <td>WN</td>\n",
       "      <td>1737.0</td>\n",
       "      <td>PHX</td>\n",
       "      <td>SAN</td>\n",
       "    </tr>\n",
       "    <tr>\n",
       "      <th>583</th>\n",
       "      <td>583</td>\n",
       "      <td>NaN</td>\n",
       "      <td>2020-01-01</td>\n",
       "      <td>WN</td>\n",
       "      <td>3525.0</td>\n",
       "      <td>PHX</td>\n",
       "      <td>SAN</td>\n",
       "    </tr>\n",
       "    <tr>\n",
       "      <th>584</th>\n",
       "      <td>584</td>\n",
       "      <td>NaN</td>\n",
       "      <td>2020-01-01</td>\n",
       "      <td>WN</td>\n",
       "      <td>4297.0</td>\n",
       "      <td>PHX</td>\n",
       "      <td>SAN</td>\n",
       "    </tr>\n",
       "    <tr>\n",
       "      <th>585</th>\n",
       "      <td>585</td>\n",
       "      <td>NaN</td>\n",
       "      <td>2020-01-01</td>\n",
       "      <td>WN</td>\n",
       "      <td>4636.0</td>\n",
       "      <td>PHX</td>\n",
       "      <td>SAN</td>\n",
       "    </tr>\n",
       "  </tbody>\n",
       "</table>\n",
       "<p>586 rows × 7 columns</p>\n",
       "</div>"
      ],
      "text/plain": [
       "     index  predicted_delay    fl_date mkt_carrier  mkt_carrier_fl_num origin  \\\n",
       "0        0            17.24        NaT         NaN                 NaN    NaN   \n",
       "1        1            11.57        NaT         NaN                 NaN    NaN   \n",
       "2        2            26.67        NaT         NaN                 NaN    NaN   \n",
       "3        3            22.77        NaT         NaN                 NaN    NaN   \n",
       "4        4             3.63        NaT         NaN                 NaN    NaN   \n",
       "..     ...              ...        ...         ...                 ...    ...   \n",
       "581    581              NaN 2020-01-01          WN              1639.0    PHX   \n",
       "582    582              NaN 2020-01-01          WN              1737.0    PHX   \n",
       "583    583              NaN 2020-01-01          WN              3525.0    PHX   \n",
       "584    584              NaN 2020-01-01          WN              4297.0    PHX   \n",
       "585    585              NaN 2020-01-01          WN              4636.0    PHX   \n",
       "\n",
       "    dest  \n",
       "0    NaN  \n",
       "1    NaN  \n",
       "2    NaN  \n",
       "3    NaN  \n",
       "4    NaN  \n",
       "..   ...  \n",
       "581  SAN  \n",
       "582  SAN  \n",
       "583  SAN  \n",
       "584  SAN  \n",
       "585  SAN  \n",
       "\n",
       "[586 rows x 7 columns]"
      ]
     },
     "execution_count": 267,
     "metadata": {},
     "output_type": "execute_result"
    }
   ],
   "source": [
    "test_df.reset_index()"
   ]
  },
  {
   "cell_type": "code",
   "execution_count": 269,
   "metadata": {},
   "outputs": [
    {
     "ename": "TypeError",
     "evalue": "'method' object is not subscriptable",
     "output_type": "error",
     "traceback": [
      "\u001b[1;31m---------------------------------------------------------------------------\u001b[0m",
      "\u001b[1;31mTypeError\u001b[0m                                 Traceback (most recent call last)",
      "\u001b[1;32mc:\\Users\\Eduardo\\Desktop\\TRANSFER\\mid-term-project-I\\feature engineering.ipynb Cell 80'\u001b[0m in \u001b[0;36m<cell line: 1>\u001b[1;34m()\u001b[0m\n\u001b[1;32m----> <a href='vscode-notebook-cell:/c%3A/Users/Eduardo/Desktop/TRANSFER/mid-term-project-I/feature%20engineering.ipynb#ch0000090?line=0'>1</a>\u001b[0m test_df\u001b[39m.\u001b[39;49msort_values[\u001b[39m'\u001b[39;49m\u001b[39mfl_date\u001b[39;49m\u001b[39m'\u001b[39;49m]\n",
      "\u001b[1;31mTypeError\u001b[0m: 'method' object is not subscriptable"
     ]
    }
   ],
   "source": [
    "test_df.sort_values['fl_date']"
   ]
  },
  {
   "cell_type": "code",
   "execution_count": 255,
   "metadata": {},
   "outputs": [
    {
     "data": {
      "text/plain": [
       "((193, 1), (393, 6))"
      ]
     },
     "execution_count": 255,
     "metadata": {},
     "output_type": "execute_result"
    }
   ],
   "source": [
    "RFR_predict_DF.shape, test_df.shape"
   ]
  },
  {
   "cell_type": "code",
   "execution_count": 256,
   "metadata": {},
   "outputs": [],
   "source": [
    "test_df = pd.concat([RFR_predict_DF, test_df], ignore_index=True)"
   ]
  },
  {
   "cell_type": "code",
   "execution_count": 257,
   "metadata": {},
   "outputs": [
    {
     "data": {
      "text/html": [
       "<div>\n",
       "<style scoped>\n",
       "    .dataframe tbody tr th:only-of-type {\n",
       "        vertical-align: middle;\n",
       "    }\n",
       "\n",
       "    .dataframe tbody tr th {\n",
       "        vertical-align: top;\n",
       "    }\n",
       "\n",
       "    .dataframe thead th {\n",
       "        text-align: right;\n",
       "    }\n",
       "</style>\n",
       "<table border=\"1\" class=\"dataframe\">\n",
       "  <thead>\n",
       "    <tr style=\"text-align: right;\">\n",
       "      <th></th>\n",
       "      <th>predicted_delay</th>\n",
       "      <th>fl_date</th>\n",
       "      <th>mkt_carrier</th>\n",
       "      <th>mkt_carrier_fl_num</th>\n",
       "      <th>origin</th>\n",
       "      <th>dest</th>\n",
       "    </tr>\n",
       "  </thead>\n",
       "  <tbody>\n",
       "    <tr>\n",
       "      <th>0</th>\n",
       "      <td>17.24</td>\n",
       "      <td>NaT</td>\n",
       "      <td>NaN</td>\n",
       "      <td>NaN</td>\n",
       "      <td>NaN</td>\n",
       "      <td>NaN</td>\n",
       "    </tr>\n",
       "    <tr>\n",
       "      <th>1</th>\n",
       "      <td>11.57</td>\n",
       "      <td>NaT</td>\n",
       "      <td>NaN</td>\n",
       "      <td>NaN</td>\n",
       "      <td>NaN</td>\n",
       "      <td>NaN</td>\n",
       "    </tr>\n",
       "    <tr>\n",
       "      <th>2</th>\n",
       "      <td>26.67</td>\n",
       "      <td>NaT</td>\n",
       "      <td>NaN</td>\n",
       "      <td>NaN</td>\n",
       "      <td>NaN</td>\n",
       "      <td>NaN</td>\n",
       "    </tr>\n",
       "    <tr>\n",
       "      <th>3</th>\n",
       "      <td>22.77</td>\n",
       "      <td>NaT</td>\n",
       "      <td>NaN</td>\n",
       "      <td>NaN</td>\n",
       "      <td>NaN</td>\n",
       "      <td>NaN</td>\n",
       "    </tr>\n",
       "    <tr>\n",
       "      <th>4</th>\n",
       "      <td>3.63</td>\n",
       "      <td>NaT</td>\n",
       "      <td>NaN</td>\n",
       "      <td>NaN</td>\n",
       "      <td>NaN</td>\n",
       "      <td>NaN</td>\n",
       "    </tr>\n",
       "  </tbody>\n",
       "</table>\n",
       "</div>"
      ],
      "text/plain": [
       "   predicted_delay fl_date mkt_carrier  mkt_carrier_fl_num origin dest\n",
       "0            17.24     NaT         NaN                 NaN    NaN  NaN\n",
       "1            11.57     NaT         NaN                 NaN    NaN  NaN\n",
       "2            26.67     NaT         NaN                 NaN    NaN  NaN\n",
       "3            22.77     NaT         NaN                 NaN    NaN  NaN\n",
       "4             3.63     NaT         NaN                 NaN    NaN  NaN"
      ]
     },
     "execution_count": 257,
     "metadata": {},
     "output_type": "execute_result"
    }
   ],
   "source": [
    "test_df.head()"
   ]
  },
  {
   "cell_type": "code",
   "execution_count": 258,
   "metadata": {},
   "outputs": [],
   "source": [
    "# clf = LogisticRegression(random_state=0).fit(X_train, y_train)\n",
    "# print(clf.score(X_test,y_test))\n",
    "\n",
    "# #clf.predict(test_data)"
   ]
  },
  {
   "cell_type": "code",
   "execution_count": 259,
   "metadata": {},
   "outputs": [],
   "source": [
    "# G_NB = GaussianNB()\n",
    "# G_NB.fit(X_train, y_train)\n",
    "# print(G_NB.score(X_test,y_test))\n",
    "\n",
    "# # G_NB.predict(test_data)\n",
    "\n",
    "# G_NB_pf = GaussianNB()\n",
    "# G_NB_pf.partial_fit(X_train, y_train, np.unique(y_train))\n",
    "# print(G_NB_pf.score(X_test,y_test))\n",
    "\n",
    "# G_NB_pf.predict(test_data)"
   ]
  },
  {
   "cell_type": "code",
   "execution_count": 260,
   "metadata": {},
   "outputs": [],
   "source": [
    "from sklearn.preprocessing import OneHotEncoder"
   ]
  },
  {
   "cell_type": "code",
   "execution_count": 261,
   "metadata": {},
   "outputs": [],
   "source": [
    "# cat_features = ['mkt_carrier','origin','dest']\n",
    "# cat_variables = X_train[cat_features]"
   ]
  },
  {
   "cell_type": "code",
   "execution_count": 262,
   "metadata": {},
   "outputs": [],
   "source": [
    "# oneh = OneHotEncoder(handle_unknown=\"error\", sparse=False)\n",
    "# oneh.fit(cat_variables)\n",
    "# X_test = oneh.transform(df_test_features['mkt_carrier'])"
   ]
  },
  {
   "cell_type": "code",
   "execution_count": 263,
   "metadata": {},
   "outputs": [],
   "source": [
    "# cat_v = oneh.transform(cat_variables)\n",
    "\n",
    "# df_cat_v = pd.DataFrame(cat_v, columns=oneh.get_feature_names_out())"
   ]
  }
 ],
 "metadata": {
  "interpreter": {
   "hash": "451f9409e4a1d80d0e57066b36b4624c2c0f11dfc98b1c0bd8da4a3c0fa8d9f4"
  },
  "kernelspec": {
   "display_name": "Python 3.9.7 ('base')",
   "language": "python",
   "name": "python3"
  },
  "language_info": {
   "codemirror_mode": {
    "name": "ipython",
    "version": 3
   },
   "file_extension": ".py",
   "mimetype": "text/x-python",
   "name": "python",
   "nbconvert_exporter": "python",
   "pygments_lexer": "ipython3",
   "version": "3.9.7"
  },
  "orig_nbformat": 4
 },
 "nbformat": 4,
 "nbformat_minor": 2
}
